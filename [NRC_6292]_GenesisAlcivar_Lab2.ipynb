{
 "cells": [
  {
   "cell_type": "code",
   "execution_count": 37,
   "id": "fca611f9",
   "metadata": {},
   "outputs": [
    {
     "name": "stdout",
     "output_type": "stream",
     "text": [
      "Empezamos importando las librerìas que se va a utilizar\n"
     ]
    }
   ],
   "source": [
    "def librerias():\n",
    "\n",
    "    '''Empezamos importando las librerìas que se va a utilizar'''\n",
    "\n",
    "import pandas as pd\n",
    "from sklearn import tree\n",
    "import pydotplus\n",
    "from sklearn.tree import DecisionTreeClassifier\n",
    "%matplotlib notebook\n",
    "import matplotlib.pyplot as plt\n",
    "import matplotlib.image as pltimg\n",
    "import seaborn as sn\n",
    "import pandas as pd\n",
    "import numpy as np\n",
    "from numpy import array\n",
    "\n",
    "print(librerias.__doc__)"
   ]
  },
  {
   "cell_type": "code",
   "execution_count": 38,
   "id": "61972bb5",
   "metadata": {},
   "outputs": [
    {
     "name": "stdout",
     "output_type": "stream",
     "text": [
      "            ph    Hardness        Solids  Chloramines     Sulfate  \\\n",
      "0          NaN  204.890455  20791.318981     7.300212  368.516441   \n",
      "1     3.716080  129.422921  18630.057858     6.635246         NaN   \n",
      "2     8.099124  224.236259  19909.541732     9.275884         NaN   \n",
      "3     8.316766  214.373394  22018.417441     8.059332  356.886136   \n",
      "4     9.092223  181.101509  17978.986339     6.546600  310.135738   \n",
      "...        ...         ...           ...          ...         ...   \n",
      "3271  4.668102  193.681735  47580.991603     7.166639  359.948574   \n",
      "3272  7.808856  193.553212  17329.802160     8.061362         NaN   \n",
      "3273  9.419510  175.762646  33155.578218     7.350233         NaN   \n",
      "3274  5.126763  230.603758  11983.869376     6.303357         NaN   \n",
      "3275  7.874671  195.102299  17404.177061     7.509306         NaN   \n",
      "\n",
      "      Conductivity  Organic_carbon  Trihalomethanes  Turbidity  Potability  \n",
      "0       564.308654       10.379783        86.990970   2.963135           0  \n",
      "1       592.885359       15.180013        56.329076   4.500656           0  \n",
      "2       418.606213       16.868637        66.420093   3.055934           0  \n",
      "3       363.266516       18.436524       100.341674   4.628771           0  \n",
      "4       398.410813       11.558279        31.997993   4.075075           0  \n",
      "...            ...             ...              ...        ...         ...  \n",
      "3271    526.424171       13.894419        66.687695   4.435821           1  \n",
      "3272    392.449580       19.903225              NaN   2.798243           1  \n",
      "3273    432.044783       11.039070        69.845400   3.298875           1  \n",
      "3274    402.883113       11.168946        77.488213   4.708658           1  \n",
      "3275    327.459760       16.140368        78.698446   2.309149           1  \n",
      "\n",
      "[3276 rows x 10 columns] \n",
      "\n",
      " Creamos la funciòn para importar nuestro Dataset \n"
     ]
    }
   ],
   "source": [
    "def importarData():\n",
    "    \n",
    "    ''' Creamos la funciòn para importar nuestro Dataset '''\n",
    "\n",
    "df= pd.read_csv('water_potability.csv')\n",
    "print(df, '\\n')\n",
    "\n",
    "print(importarData.__doc__)"
   ]
  },
  {
   "cell_type": "code",
   "execution_count": 40,
   "id": "c6e9bb62",
   "metadata": {},
   "outputs": [
    {
     "name": "stdout",
     "output_type": "stream",
     "text": [
      "            ph    Hardness        Solids  Chloramines     Sulfate  \\\n",
      "0     0.000000  204.890455  20791.318981     7.300212  368.516441   \n",
      "1     3.716080  129.422921  18630.057858     6.635246    0.000000   \n",
      "2     8.099124  224.236259  19909.541732     9.275884    0.000000   \n",
      "3     8.316766  214.373394  22018.417441     8.059332  356.886136   \n",
      "4     9.092223  181.101509  17978.986339     6.546600  310.135738   \n",
      "...        ...         ...           ...          ...         ...   \n",
      "3271  4.668102  193.681735  47580.991603     7.166639  359.948574   \n",
      "3272  7.808856  193.553212  17329.802160     8.061362    0.000000   \n",
      "3273  9.419510  175.762646  33155.578218     7.350233    0.000000   \n",
      "3274  5.126763  230.603758  11983.869376     6.303357    0.000000   \n",
      "3275  7.874671  195.102299  17404.177061     7.509306    0.000000   \n",
      "\n",
      "      Conductivity  Organic_carbon  Trihalomethanes  Turbidity  Potability  \n",
      "0       564.308654       10.379783        86.990970   2.963135           0  \n",
      "1       592.885359       15.180013        56.329076   4.500656           0  \n",
      "2       418.606213       16.868637        66.420093   3.055934           0  \n",
      "3       363.266516       18.436524       100.341674   4.628771           0  \n",
      "4       398.410813       11.558279        31.997993   4.075075           0  \n",
      "...            ...             ...              ...        ...         ...  \n",
      "3271    526.424171       13.894419        66.687695   4.435821           1  \n",
      "3272    392.449580       19.903225         0.000000   2.798243           1  \n",
      "3273    432.044783       11.039070        69.845400   3.298875           1  \n",
      "3274    402.883113       11.168946        77.488213   4.708658           1  \n",
      "3275    327.459760       16.140368        78.698446   2.309149           1  \n",
      "\n",
      "[3276 rows x 10 columns] \n",
      "\n",
      " Creamos una funciòn la cual nos ayudarà a reemplazar los valores vacios que existen en nuestra Dataset a valores en Cero, ya que al tener valores nulos nos presenta problemas al crear nuestro àrbol de decisiòn \n"
     ]
    }
   ],
   "source": [
    "def DatNulos():\n",
    "\n",
    "    ''' Creamos una funciòn la cual nos ayudarà a reemplazar los valores vacios que existen en nuestra Dataset a valores en Cero, ya que al tener valores nulos nos presenta problemas al crear nuestro àrbol de decisiòn '''\n",
    "\n",
    "df= pd.read_csv('water_potability.csv')\n",
    "df= df.fillna(0)\n",
    "\n",
    "print(df, '\\n')\n",
    "\n",
    "print(DatNulos.__doc__)\n"
   ]
  },
  {
   "cell_type": "code",
   "execution_count": 44,
   "id": "6f6e181c",
   "metadata": {},
   "outputs": [
    {
     "name": "stdout",
     "output_type": "stream",
     "text": [
      " Creamos la funciòn que nos permite separar los datos de nuestra Dataset, en este caso escogemos las caracteristicas (X) la cuales nos serviran para realizar nuestra predicciòn\n"
     ]
    }
   ],
   "source": [
    "def defCarac():\n",
    "    \n",
    "\n",
    "    ''' Creamos la funciòn que nos permite separar los datos de nuestra Dataset, en este caso escogemos las caracteristicas (X) la cuales nos serviran para realizar nuestra predicciòn'''\n",
    "\n",
    "caracteristicas= ['ph', 'Hardness', 'Solids', 'Chloramines', 'Sulfate', 'Conductivity', \n",
    "                  'Organic_carbon', 'Trihalomethanes', 'Turbidity']\n",
    "\n",
    "X= df[caracteristicas]\n",
    "    \n",
    "    \n",
    "print(defCarac.__doc__)\n"
   ]
  },
  {
   "cell_type": "code",
   "execution_count": 45,
   "id": "f3c3f7ca",
   "metadata": {},
   "outputs": [
    {
     "name": "stdout",
     "output_type": "stream",
     "text": [
      " Seguidamente escogemos la etiqueta la cual nos permitirà predecir un valor\n"
     ]
    }
   ],
   "source": [
    "def defEtiq():\n",
    "\n",
    "    ''' Seguidamente escogemos la etiqueta la cual nos permitirà predecir un valor'''\n",
    "    \n",
    "y= df['Potability']\n",
    "\n",
    "print(defEtiq.__doc__)"
   ]
  },
  {
   "cell_type": "code",
   "execution_count": 50,
   "id": "8314d3bd",
   "metadata": {},
   "outputs": [
    {
     "name": "stdout",
     "output_type": "stream",
     "text": [
      "Separamos las columnas: \n",
      "            ph    Hardness        Solids  Chloramines     Sulfate  \\\n",
      "0     0.000000  204.890455  20791.318981     7.300212  368.516441   \n",
      "1     3.716080  129.422921  18630.057858     6.635246    0.000000   \n",
      "2     8.099124  224.236259  19909.541732     9.275884    0.000000   \n",
      "3     8.316766  214.373394  22018.417441     8.059332  356.886136   \n",
      "4     9.092223  181.101509  17978.986339     6.546600  310.135738   \n",
      "...        ...         ...           ...          ...         ...   \n",
      "3271  4.668102  193.681735  47580.991603     7.166639  359.948574   \n",
      "3272  7.808856  193.553212  17329.802160     8.061362    0.000000   \n",
      "3273  9.419510  175.762646  33155.578218     7.350233    0.000000   \n",
      "3274  5.126763  230.603758  11983.869376     6.303357    0.000000   \n",
      "3275  7.874671  195.102299  17404.177061     7.509306    0.000000   \n",
      "\n",
      "      Conductivity  Organic_carbon  Trihalomethanes  Turbidity  \n",
      "0       564.308654       10.379783        86.990970   2.963135  \n",
      "1       592.885359       15.180013        56.329076   4.500656  \n",
      "2       418.606213       16.868637        66.420093   3.055934  \n",
      "3       363.266516       18.436524       100.341674   4.628771  \n",
      "4       398.410813       11.558279        31.997993   4.075075  \n",
      "...            ...             ...              ...        ...  \n",
      "3271    526.424171       13.894419        66.687695   4.435821  \n",
      "3272    392.449580       19.903225         0.000000   2.798243  \n",
      "3273    432.044783       11.039070        69.845400   3.298875  \n",
      "3274    402.883113       11.168946        77.488213   4.708658  \n",
      "3275    327.459760       16.140368        78.698446   2.309149  \n",
      "\n",
      "[3276 rows x 9 columns]\n",
      "0       0\n",
      "1       0\n",
      "2       0\n",
      "3       0\n",
      "4       0\n",
      "       ..\n",
      "3271    1\n",
      "3272    1\n",
      "3273    1\n",
      "3274    1\n",
      "3275    1\n",
      "Name: Potability, Length: 3276, dtype: int64\n",
      "\n",
      "\n",
      " Mediante un print se procede a imprimir los datos de las columnas X y Y\n"
     ]
    }
   ],
   "source": [
    "def mostrar():\n",
    "    \n",
    "    ''' Mediante un print se procede a imprimir los datos de las columnas X y Y'''\n",
    "    \n",
    "print(\"Separamos las columnas: \", X, y, '\\n', sep='\\n' )\n",
    "\n",
    "print(mostrar.__doc__)"
   ]
  },
  {
   "cell_type": "code",
   "execution_count": null,
   "id": "83620bf7",
   "metadata": {},
   "outputs": [],
   "source": []
  }
 ],
 "metadata": {
  "kernelspec": {
   "display_name": "Python 3 (ipykernel)",
   "language": "python",
   "name": "python3"
  },
  "language_info": {
   "codemirror_mode": {
    "name": "ipython",
    "version": 3
   },
   "file_extension": ".py",
   "mimetype": "text/x-python",
   "name": "python",
   "nbconvert_exporter": "python",
   "pygments_lexer": "ipython3",
   "version": "3.9.12"
  }
 },
 "nbformat": 4,
 "nbformat_minor": 5
}
